{
  "cells": [
    {
      "cell_type": "code",
      "source": [
        "import pandas as pd\n",
        "df = pd.read_csv('NQ 10a OR.txt')"
      ],
      "outputs": [],
      "execution_count": null,
      "metadata": {
        "jupyter": {
          "outputs_hidden": false,
          "source_hidden": false
        },
        "noteable": {
          "cell_type": "code"
        },
        "ExecuteTime": {
          "start_time": "2023-06-07T20:48:58.795154+00:00",
          "end_time": "2023-06-07T20:48:59.423432+00:00"
        }
      },
      "id": "e95ae599-e982-40c3-9a13-4a75b1abbd02"
    },
    {
      "cell_type": "code",
      "source": [
        "print(df.head())"
      ],
      "outputs": [
        {
          "output_type": "stream",
          "name": "stdout",
          "text": [
            "        Date              Time      Open     High       Low      Last  \\\n",
            "0  2022-1-24   09:30:00.000000  14535.50  14536.5  14487.50  14510.75   \n",
            "1  2022-1-24   09:31:00.000000  14510.00  14542.5  14486.75  14529.00   \n",
            "2  2022-1-24   09:32:00.000000  14529.50  14572.0  14516.50  14532.25   \n",
            "3  2022-1-24   09:33:00.000000  14533.00  14551.5  14517.25  14545.00   \n",
            "4  2022-1-24   09:34:00.000000  14544.75  14547.5  14507.50  14533.25   \n",
            "\n",
            "    Volume   # of Trades   OHLC Avg   HLC Avg    HL Avg   Bid Volume  \\\n",
            "0     8791          8135   14517.56  14511.58  14512.00         4090   \n",
            "1     7319          6797   14517.06  14519.42  14514.63         3743   \n",
            "2     7204          6533   14537.56  14540.25  14544.25         3531   \n",
            "3     4310          4101   14536.69  14537.92  14534.38         2067   \n",
            "4     4649          4421   14533.25  14529.42  14527.50         2337   \n",
            "\n",
            "    Ask Volume   Open.1   High.1   Low.1   Close   IBHx10   IBHx8   IBHx4  \\\n",
            "0         4701      0.0      0.0     0.0     0.0      0.0     0.0     0.0   \n",
            "1         3576      0.0      0.0     0.0     0.0      0.0     0.0     0.0   \n",
            "2         3673      0.0      0.0     0.0     0.0      0.0     0.0     0.0   \n",
            "3         2243      0.0      0.0     0.0     0.0      0.0     0.0     0.0   \n",
            "4         2312      0.0      0.0     0.0     0.0      0.0     0.0     0.0   \n",
            "\n",
            "    IBHx2   IBH   IBL   IBLx2   IBLx4   IBLx8   IBLx10  \n",
            "0     0.0   0.0   0.0     0.0     0.0     0.0      0.0  \n",
            "1     0.0   0.0   0.0     0.0     0.0     0.0      0.0  \n",
            "2     0.0   0.0   0.0     0.0     0.0     0.0      0.0  \n",
            "3     0.0   0.0   0.0     0.0     0.0     0.0      0.0  \n",
            "4     0.0   0.0   0.0     0.0     0.0     0.0      0.0  \n"
          ]
        }
      ],
      "execution_count": null,
      "metadata": {
        "jupyter": {
          "outputs_hidden": false,
          "source_hidden": false
        },
        "noteable": {
          "cell_type": "code"
        },
        "ExecuteTime": {
          "start_time": "2023-06-07T20:48:59.432374+00:00",
          "end_time": "2023-06-07T20:48:59.600179+00:00"
        }
      },
      "id": "46c7b605-9186-479f-b028-c3d987d11b50"
    },
    {
      "cell_type": "code",
      "source": [
        "df = df.drop(df.columns[6:12], axis=1)"
      ],
      "outputs": [],
      "execution_count": null,
      "metadata": {
        "jupyter": {
          "outputs_hidden": false,
          "source_hidden": false
        },
        "noteable": {
          "cell_type": "code"
        },
        "ExecuteTime": {
          "start_time": "2023-06-07T20:48:59.609198+00:00",
          "end_time": "2023-06-07T20:48:59.773268+00:00"
        }
      },
      "id": "daba8d3c-16e5-4322-bada-be65255ca6a5"
    },
    {
      "cell_type": "code",
      "source": [
        "print(df.head())"
      ],
      "outputs": [
        {
          "output_type": "stream",
          "name": "stdout",
          "text": [
            "        Date              Time      Open     High       Low      Last  \\\n",
            "0  2022-1-24   09:30:00.000000  14535.50  14536.5  14487.50  14510.75   \n",
            "1  2022-1-24   09:31:00.000000  14510.00  14542.5  14486.75  14529.00   \n",
            "2  2022-1-24   09:32:00.000000  14529.50  14572.0  14516.50  14532.25   \n",
            "3  2022-1-24   09:33:00.000000  14533.00  14551.5  14517.25  14545.00   \n",
            "4  2022-1-24   09:34:00.000000  14544.75  14547.5  14507.50  14533.25   \n",
            "\n",
            "    Ask Volume   Open.1   High.1   Low.1   Close   IBHx10   IBHx8   IBHx4  \\\n",
            "0         4701      0.0      0.0     0.0     0.0      0.0     0.0     0.0   \n",
            "1         3576      0.0      0.0     0.0     0.0      0.0     0.0     0.0   \n",
            "2         3673      0.0      0.0     0.0     0.0      0.0     0.0     0.0   \n",
            "3         2243      0.0      0.0     0.0     0.0      0.0     0.0     0.0   \n",
            "4         2312      0.0      0.0     0.0     0.0      0.0     0.0     0.0   \n",
            "\n",
            "    IBHx2   IBH   IBL   IBLx2   IBLx4   IBLx8   IBLx10  \n",
            "0     0.0   0.0   0.0     0.0     0.0     0.0      0.0  \n",
            "1     0.0   0.0   0.0     0.0     0.0     0.0      0.0  \n",
            "2     0.0   0.0   0.0     0.0     0.0     0.0      0.0  \n",
            "3     0.0   0.0   0.0     0.0     0.0     0.0      0.0  \n",
            "4     0.0   0.0   0.0     0.0     0.0     0.0      0.0  \n"
          ]
        }
      ],
      "execution_count": null,
      "metadata": {
        "jupyter": {
          "outputs_hidden": false,
          "source_hidden": false
        },
        "noteable": {
          "cell_type": "code"
        },
        "ExecuteTime": {
          "start_time": "2023-06-07T20:48:59.782961+00:00",
          "end_time": "2023-06-07T20:48:59.949986+00:00"
        }
      },
      "id": "198eed70-eaed-45b4-93d3-9c9bf7e3f55b"
    },
    {
      "cell_type": "code",
      "source": [
        "df = df.loc[(df!=0).all(axis=1)]"
      ],
      "outputs": [],
      "execution_count": null,
      "metadata": {
        "jupyter": {
          "outputs_hidden": false,
          "source_hidden": false
        },
        "noteable": {
          "cell_type": "code"
        },
        "ExecuteTime": {
          "start_time": "2023-06-07T20:48:59.968326+00:00",
          "end_time": "2023-06-07T20:49:00.152929+00:00"
        }
      },
      "id": "78f65934-90b4-4e9c-9b7e-f92da8e56999"
    },
    {
      "cell_type": "code",
      "source": [
        "print(df.head())"
      ],
      "outputs": [
        {
          "output_type": "stream",
          "name": "stdout",
          "text": [
            "             Date              Time      Open      High       Low      Last  \\\n",
            "127047  2023-4-19   09:30:00.000000  13085.25  13098.75  13080.50  13094.75   \n",
            "127048  2023-4-19   09:31:00.000000  13095.00  13096.75  13081.75  13085.00   \n",
            "127049  2023-4-19   09:32:00.000000  13085.25  13102.00  13083.00  13101.50   \n",
            "127050  2023-4-19   09:33:00.000000  13101.75  13113.50  13100.25  13109.00   \n",
            "127051  2023-4-19   09:34:00.000000  13108.50  13123.50  13107.25  13117.25   \n",
            "\n",
            "         Ask Volume    Open.1    High.1    Low.1    Close   IBHx10    IBHx8  \\\n",
            "127047         2557  13085.25  13226.75  13080.5  13161.5  13389.5  13359.5   \n",
            "127048         1664  13085.25  13226.75  13080.5  13161.5  13389.5  13359.5   \n",
            "127049         1539  13085.25  13226.75  13080.5  13161.5  13389.5  13359.5   \n",
            "127050         2130  13085.25  13226.75  13080.5  13161.5  13389.5  13359.5   \n",
            "127051         2136  13085.25  13226.75  13080.5  13161.5  13389.5  13359.5   \n",
            "\n",
            "          IBHx4    IBHx2      IBH      IBL    IBLx2    IBLx4    IBLx8   IBLx10  \n",
            "127047  13299.5  13269.5  13254.5  13239.5  13224.5  13194.5  13134.5  13104.5  \n",
            "127048  13299.5  13269.5  13254.5  13239.5  13224.5  13194.5  13134.5  13104.5  \n",
            "127049  13299.5  13269.5  13254.5  13239.5  13224.5  13194.5  13134.5  13104.5  \n",
            "127050  13299.5  13269.5  13254.5  13239.5  13224.5  13194.5  13134.5  13104.5  \n",
            "127051  13299.5  13269.5  13254.5  13239.5  13224.5  13194.5  13134.5  13104.5  \n"
          ]
        }
      ],
      "execution_count": null,
      "metadata": {
        "jupyter": {
          "outputs_hidden": false,
          "source_hidden": false
        },
        "noteable": {
          "cell_type": "code"
        },
        "ExecuteTime": {
          "start_time": "2023-06-07T20:49:00.165975+00:00",
          "end_time": "2023-06-07T20:49:00.332701+00:00"
        }
      },
      "id": "127aa92c-e4b7-47f2-b6f7-a832c5990f96"
    },
    {
      "cell_type": "code",
      "source": [
        "row_count = len(df)\n",
        "print('Number of rows:', row_count)"
      ],
      "outputs": [
        {
          "output_type": "stream",
          "name": "stdout",
          "text": [
            "Number of rows: 14170\n"
          ]
        }
      ],
      "execution_count": null,
      "metadata": {
        "jupyter": {
          "outputs_hidden": false,
          "source_hidden": false
        },
        "noteable": {
          "cell_type": "code"
        },
        "ExecuteTime": {
          "start_time": "2023-06-07T20:49:00.339629+00:00",
          "end_time": "2023-06-07T20:49:00.497599+00:00"
        }
      },
      "id": "ad2f85ff-ddcf-4ee5-a045-f8d09aff0799"
    },
    {
      "cell_type": "code",
      "source": [
        "column_list = df.columns.tolist()\n",
        "print('List of columns:', column_list)"
      ],
      "outputs": [
        {
          "output_type": "stream",
          "name": "stdout",
          "text": [
            "List of columns: ['Date', ' Time', ' Open', ' High', ' Low', ' Last', ' Ask Volume', ' Open.1', ' High.1', ' Low.1', ' Close', ' IBHx10', ' IBHx8', ' IBHx4', ' IBHx2', ' IBH', ' IBL', ' IBLx2', ' IBLx4', ' IBLx8', ' IBLx10']\n"
          ]
        }
      ],
      "execution_count": null,
      "metadata": {
        "jupyter": {
          "outputs_hidden": false,
          "source_hidden": false
        },
        "noteable": {
          "cell_type": "code"
        },
        "ExecuteTime": {
          "start_time": "2023-06-07T20:49:00.506788+00:00",
          "end_time": "2023-06-07T20:49:00.663804+00:00"
        }
      },
      "id": "89aa8d96-2d84-49b9-bab4-5feccbac71a5"
    },
    {
      "cell_type": "code",
      "source": [
        "df = df.drop(df.columns[6], axis=1)\n",
        "print(df.head())"
      ],
      "outputs": [
        {
          "output_type": "stream",
          "name": "stdout",
          "text": [
            "             Date              Time      Open      High       Low      Last  \\\n",
            "127047  2023-4-19   09:30:00.000000  13085.25  13098.75  13080.50  13094.75   \n",
            "127048  2023-4-19   09:31:00.000000  13095.00  13096.75  13081.75  13085.00   \n",
            "127049  2023-4-19   09:32:00.000000  13085.25  13102.00  13083.00  13101.50   \n",
            "127050  2023-4-19   09:33:00.000000  13101.75  13113.50  13100.25  13109.00   \n",
            "127051  2023-4-19   09:34:00.000000  13108.50  13123.50  13107.25  13117.25   \n",
            "\n",
            "          Open.1    High.1    Low.1    Close   IBHx10    IBHx8    IBHx4  \\\n",
            "127047  13085.25  13226.75  13080.5  13161.5  13389.5  13359.5  13299.5   \n",
            "127048  13085.25  13226.75  13080.5  13161.5  13389.5  13359.5  13299.5   \n",
            "127049  13085.25  13226.75  13080.5  13161.5  13389.5  13359.5  13299.5   \n",
            "127050  13085.25  13226.75  13080.5  13161.5  13389.5  13359.5  13299.5   \n",
            "127051  13085.25  13226.75  13080.5  13161.5  13389.5  13359.5  13299.5   \n",
            "\n",
            "          IBHx2      IBH      IBL    IBLx2    IBLx4    IBLx8   IBLx10  \n",
            "127047  13269.5  13254.5  13239.5  13224.5  13194.5  13134.5  13104.5  \n",
            "127048  13269.5  13254.5  13239.5  13224.5  13194.5  13134.5  13104.5  \n",
            "127049  13269.5  13254.5  13239.5  13224.5  13194.5  13134.5  13104.5  \n",
            "127050  13269.5  13254.5  13239.5  13224.5  13194.5  13134.5  13104.5  \n",
            "127051  13269.5  13254.5  13239.5  13224.5  13194.5  13134.5  13104.5  \n"
          ]
        }
      ],
      "execution_count": null,
      "metadata": {
        "jupyter": {
          "outputs_hidden": false,
          "source_hidden": false
        },
        "noteable": {
          "cell_type": "code"
        },
        "ExecuteTime": {
          "start_time": "2023-06-07T20:49:00.672114+00:00",
          "end_time": "2023-06-07T20:49:00.844483+00:00"
        }
      },
      "id": "7f48e43a-bbc5-4e10-96dc-57a9704c381f"
    },
    {
      "cell_type": "code",
      "source": [
        "column_list = df.columns.tolist()\n",
        "print('List of columns:', column_list)"
      ],
      "outputs": [
        {
          "output_type": "stream",
          "name": "stdout",
          "text": [
            "List of columns: ['Date', ' Time', ' Open', ' High', ' Low', ' Last', ' Open.1', ' High.1', ' Low.1', ' Close', ' IBHx10', ' IBHx8', ' IBHx4', ' IBHx2', ' IBH', ' IBL', ' IBLx2', ' IBLx4', ' IBLx8', ' IBLx10']\n"
          ]
        }
      ],
      "execution_count": null,
      "metadata": {
        "jupyter": {
          "outputs_hidden": false,
          "source_hidden": false
        },
        "noteable": {
          "cell_type": "code"
        },
        "ExecuteTime": {
          "start_time": "2023-06-07T20:49:00.853144+00:00",
          "end_time": "2023-06-07T20:49:01.009939+00:00"
        }
      },
      "id": "2d2883f9-7c27-4108-af8a-2457277f9d00"
    },
    {
      "cell_type": "code",
      "source": [
        "date_groups = df.groupby('Date')\n",
        "results = {}\n",
        "for name, group in date_groups:\n",
        "    total_rows = len(group)\n",
        "    for column in [' IBHx10', ' IBHx8', ' IBHx4', ' IBHx2']:\n",
        "        count = len(group[group[' High.1'] >= group[column]])\n",
        "        percentage = (count / total_rows) * 100\n",
        "        results[(name, column)] = percentage\n",
        "print(results)"
      ],
      "outputs": [
        {
          "output_type": "stream",
          "name": "stdout",
          "text": [
            "{('2023-4-19', ' IBHx10'): 0.0, ('2023-4-19', ' IBHx8'): 92.5925925925926, ('2023-4-19', ' IBHx4'): 92.5925925925926, ('2023-4-19', ' IBHx2'): 92.5925925925926, ('2023-4-20', ' IBHx10'): 0.0, ('2023-4-20', ' IBHx8'): 0.0, ('2023-4-20', ' IBHx4'): 100.0, ('2023-4-20', ' IBHx2'): 100.0, ('2023-4-21', ' IBHx10'): 92.5925925925926, ('2023-4-21', ' IBHx8'): 92.5925925925926, ('2023-4-21', ' IBHx4'): 92.5925925925926, ('2023-4-21', ' IBHx2'): 92.5925925925926, ('2023-4-24', ' IBHx10'): 7.4074074074074066, ('2023-4-24', ' IBHx8'): 7.4074074074074066, ('2023-4-24', ' IBHx4'): 100.0, ('2023-4-24', ' IBHx2'): 100.0, ('2023-4-25', ' IBHx10'): 0.0, ('2023-4-25', ' IBHx8'): 0.0, ('2023-4-25', ' IBHx4'): 0.0, ('2023-4-25', ' IBHx2'): 0.0, ('2023-4-26', ' IBHx10'): 0.0, ('2023-4-26', ' IBHx8'): 0.0, ('2023-4-26', ' IBHx4'): 92.5925925925926, ('2023-4-26', ' IBHx2'): 92.5925925925926, ('2023-4-27', ' IBHx10'): 100.0, ('2023-4-27', ' IBHx8'): 100.0, ('2023-4-27', ' IBHx4'): 100.0, ('2023-4-27', ' IBHx2'): 100.0, ('2023-4-28', ' IBHx10'): 7.4074074074074066, ('2023-4-28', ' IBHx8'): 100.0, ('2023-4-28', ' IBHx4'): 100.0, ('2023-4-28', ' IBHx2'): 100.0, ('2023-5-1', ' IBHx10'): 7.4074074074074066, ('2023-5-1', ' IBHx8'): 7.4074074074074066, ('2023-5-1', ' IBHx4'): 7.4074074074074066, ('2023-5-1', ' IBHx2'): 100.0, ('2023-5-10', ' IBHx10'): 7.4074074074074066, ('2023-5-10', ' IBHx8'): 7.4074074074074066, ('2023-5-10', ' IBHx4'): 7.4074074074074066, ('2023-5-10', ' IBHx2'): 100.0, ('2023-5-11', ' IBHx10'): 0.0, ('2023-5-11', ' IBHx8'): 0.0, ('2023-5-11', ' IBHx4'): 100.0, ('2023-5-11', ' IBHx2'): 100.0, ('2023-5-12', ' IBHx10'): 0.0, ('2023-5-12', ' IBHx8'): 7.4074074074074066, ('2023-5-12', ' IBHx4'): 7.4074074074074066, ('2023-5-12', ' IBHx2'): 100.0, ('2023-5-15', ' IBHx10'): 92.5925925925926, ('2023-5-15', ' IBHx8'): 92.5925925925926, ('2023-5-15', ' IBHx4'): 92.5925925925926, ('2023-5-15', ' IBHx2'): 92.5925925925926, ('2023-5-16', ' IBHx10'): 7.4074074074074066, ('2023-5-16', ' IBHx8'): 7.4074074074074066, ('2023-5-16', ' IBHx4'): 100.0, ('2023-5-16', ' IBHx2'): 100.0, ('2023-5-17', ' IBHx10'): 100.0, ('2023-5-17', ' IBHx8'): 100.0, ('2023-5-17', ' IBHx4'): 100.0, ('2023-5-17', ' IBHx2'): 100.0, ('2023-5-18', ' IBHx10'): 100.0, ('2023-5-18', ' IBHx8'): 100.0, ('2023-5-18', ' IBHx4'): 100.0, ('2023-5-18', ' IBHx2'): 100.0, ('2023-5-19', ' IBHx10'): 7.4074074074074066, ('2023-5-19', ' IBHx8'): 7.4074074074074066, ('2023-5-19', ' IBHx4'): 7.4074074074074066, ('2023-5-19', ' IBHx2'): 100.0, ('2023-5-2', ' IBHx10'): 0.0, ('2023-5-2', ' IBHx8'): 0.0, ('2023-5-2', ' IBHx4'): 0.0, ('2023-5-2', ' IBHx2'): 0.0, ('2023-5-22', ' IBHx10'): 0.0, ('2023-5-22', ' IBHx8'): 0.0, ('2023-5-22', ' IBHx4'): 0.0, ('2023-5-22', ' IBHx2'): 7.4074074074074066, ('2023-5-23', ' IBHx10'): 0.0, ('2023-5-23', ' IBHx8'): 0.0, ('2023-5-23', ' IBHx4'): 0.0, ('2023-5-23', ' IBHx2'): 0.0, ('2023-5-24', ' IBHx10'): 0.0, ('2023-5-24', ' IBHx8'): 0.0, ('2023-5-24', ' IBHx4'): 92.5925925925926, ('2023-5-24', ' IBHx2'): 92.5925925925926, ('2023-5-25', ' IBHx10'): 7.4074074074074066, ('2023-5-25', ' IBHx8'): 7.4074074074074066, ('2023-5-25', ' IBHx4'): 100.0, ('2023-5-25', ' IBHx2'): 100.0, ('2023-5-26', ' IBHx10'): 7.4074074074074066, ('2023-5-26', ' IBHx8'): 100.0, ('2023-5-26', ' IBHx4'): 100.0, ('2023-5-26', ' IBHx2'): 100.0, ('2023-5-29', ' IBHx10'): 85.71428571428571, ('2023-5-29', ' IBHx8'): 100.0, ('2023-5-29', ' IBHx4'): 100.0, ('2023-5-29', ' IBHx2'): 100.0, ('2023-5-3', ' IBHx10'): 0.0, ('2023-5-3', ' IBHx8'): 0.0, ('2023-5-3', ' IBHx4'): 92.5925925925926, ('2023-5-3', ' IBHx2'): 92.5925925925926, ('2023-5-30', ' IBHx10'): 7.4074074074074066, ('2023-5-30', ' IBHx8'): 7.4074074074074066, ('2023-5-30', ' IBHx4'): 100.0, ('2023-5-30', ' IBHx2'): 100.0, ('2023-5-31', ' IBHx10'): 0.0, ('2023-5-31', ' IBHx8'): 0.0, ('2023-5-31', ' IBHx4'): 0.0, ('2023-5-31', ' IBHx2'): 92.5925925925926, ('2023-5-4', ' IBHx10'): 0.0, ('2023-5-4', ' IBHx8'): 0.0, ('2023-5-4', ' IBHx4'): 92.5925925925926, ('2023-5-4', ' IBHx2'): 92.5925925925926, ('2023-5-5', ' IBHx10'): 100.0, ('2023-5-5', ' IBHx8'): 100.0, ('2023-5-5', ' IBHx4'): 100.0, ('2023-5-5', ' IBHx2'): 100.0, ('2023-5-8', ' IBHx10'): 7.4074074074074066, ('2023-5-8', ' IBHx8'): 7.4074074074074066, ('2023-5-8', ' IBHx4'): 100.0, ('2023-5-8', ' IBHx2'): 100.0, ('2023-5-9', ' IBHx10'): 0.0, ('2023-5-9', ' IBHx8'): 0.0, ('2023-5-9', ' IBHx4'): 0.0, ('2023-5-9', ' IBHx2'): 7.4074074074074066, ('2023-6-1', ' IBHx10'): 7.4074074074074066, ('2023-6-1', ' IBHx8'): 100.0, ('2023-6-1', ' IBHx4'): 100.0, ('2023-6-1', ' IBHx2'): 100.0, ('2023-6-2', ' IBHx10'): 7.4074074074074066, ('2023-6-2', ' IBHx8'): 100.0, ('2023-6-2', ' IBHx4'): 100.0, ('2023-6-2', ' IBHx2'): 100.0, ('2023-6-5', ' IBHx10'): 7.4074074074074066, ('2023-6-5', ' IBHx8'): 7.4074074074074066, ('2023-6-5', ' IBHx4'): 100.0, ('2023-6-5', ' IBHx2'): 100.0, ('2023-6-6', ' IBHx10'): 0.0, ('2023-6-6', ' IBHx8'): 0.0, ('2023-6-6', ' IBHx4'): 92.5925925925926, ('2023-6-6', ' IBHx2'): 92.5925925925926, ('2023-6-7', ' IBHx10'): 15.789473684210526, ('2023-6-7', ' IBHx8'): 15.789473684210526, ('2023-6-7', ' IBHx4'): 15.789473684210526, ('2023-6-7', ' IBHx2'): 100.0}"
          ]
        },
        {
          "output_type": "stream",
          "name": "stdout",
          "text": [
            "\n"
          ]
        }
      ],
      "execution_count": null,
      "metadata": {
        "jupyter": {
          "outputs_hidden": false,
          "source_hidden": false
        },
        "noteable": {
          "cell_type": "code"
        },
        "ExecuteTime": {
          "start_time": "2023-06-07T20:49:01.016339+00:00",
          "end_time": "2023-06-07T20:49:01.243825+00:00"
        }
      },
      "id": "452b4c97-1c17-410b-8c75-9c7bca22229c"
    },
    {
      "cell_type": "code",
      "source": [
        "results = {}\n",
        "for column in [' IBHx10', ' IBHx8', ' IBHx4', ' IBHx2']:\n",
        "    total_dates = df['Date'].nunique()\n",
        "    count = df[df.groupby('Date')[' High.1'].transform('max') >= df[column]]['Date'].nunique()\n",
        "    percentage = (count / total_dates) * 100\n",
        "    results[column] = percentage\n",
        "print(results)"
      ],
      "outputs": [
        {
          "output_type": "stream",
          "name": "stdout",
          "text": [
            "{' IBHx10': 58.333333333333336, ' IBHx8': 63.888888888888886, ' IBHx4': 83.33333333333334, ' IBHx2': 91.66666666666666}\n"
          ]
        }
      ],
      "execution_count": null,
      "metadata": {
        "jupyter": {
          "outputs_hidden": false,
          "source_hidden": false
        },
        "noteable": {
          "cell_type": "code"
        },
        "ExecuteTime": {
          "start_time": "2023-06-07T20:49:01.252205+00:00",
          "end_time": "2023-06-07T20:49:01.432220+00:00"
        }
      },
      "id": "45370093-eadc-455a-a59f-c0c68dad56b2"
    },
    {
      "cell_type": "code",
      "source": [
        "results = {}\n",
        "for column in [' IBLx2', ' IBLx4', ' IBLx8', ' IBLx10']:\n",
        "    total_dates = df['Date'].nunique()\n",
        "    count = df[df.groupby('Date')[' Low.1'].transform('min') <= df[column]]['Date'].nunique()\n",
        "    percentage = (count / total_dates) * 100\n",
        "    results[column] = percentage\n",
        "print(results)"
      ],
      "outputs": [
        {
          "output_type": "stream",
          "name": "stdout",
          "text": [
            "{' IBLx2': 86.11111111111111, ' IBLx4': 69.44444444444444, ' IBLx8': 41.66666666666667, ' IBLx10': 33.33333333333333}\n"
          ]
        }
      ],
      "execution_count": null,
      "metadata": {
        "jupyter": {
          "outputs_hidden": false,
          "source_hidden": false
        },
        "noteable": {
          "cell_type": "code"
        },
        "ExecuteTime": {
          "start_time": "2023-06-07T20:49:01.465351+00:00",
          "end_time": "2023-06-07T20:49:01.637946+00:00"
        }
      },
      "id": "62de2e35-c13e-4ead-b2cf-50d40d7e5294"
    },
    {
      "cell_type": "code",
      "source": [
        "import pandas as pd\n",
        "data = {' IBHx10': [58.33], ' IBHx8': [63.89], ' IBHx4': [83.33], ' IBHx2': [91.67], ' IBLx2': [86.11], ' IBLx4': [69.44], ' IBLx8': [41.67], ' IBLx10': [33.33]}\n",
        "percentages_df = pd.DataFrame(data)\n",
        "percentages_df"
      ],
      "outputs": [
        {
          "output_type": "display_data",
          "data": {
            "application/vnd.dataresource+json": {
              "schema": {
                "fields": [
                  {
                    "name": "index",
                    "type": "integer"
                  },
                  {
                    "name": " IBHx10",
                    "type": "number"
                  },
                  {
                    "name": " IBHx8",
                    "type": "number"
                  },
                  {
                    "name": " IBHx4",
                    "type": "number"
                  },
                  {
                    "name": " IBHx2",
                    "type": "number"
                  },
                  {
                    "name": " IBLx2",
                    "type": "number"
                  },
                  {
                    "name": " IBLx4",
                    "type": "number"
                  },
                  {
                    "name": " IBLx8",
                    "type": "number"
                  },
                  {
                    "name": " IBLx10",
                    "type": "number"
                  }
                ],
                "primaryKey": [
                  "index"
                ],
                "pandas_version": "1.4.0"
              },
              "data": [
                {
                  "index": 0,
                  " IBHx10": 58.33,
                  " IBHx8": 63.89,
                  " IBHx4": 83.33,
                  " IBHx2": 91.67,
                  " IBLx2": 86.11,
                  " IBLx4": 69.44,
                  " IBLx8": 41.67,
                  " IBLx10": 33.33
                }
              ],
              "datalink": {
                "display_id": "82ad4439-0f84-4fa5-b46d-b79ed5d15759"
              }
            }
          },
          "metadata": {
            "application/vnd.dataresource+json": {
              "datalink": {
                "dataframe_info": {
                  "default_index_used": true,
                  "orig_size_bytes": 72,
                  "orig_num_rows": 1,
                  "orig_num_cols": 8,
                  "truncated_string_columns": [],
                  "truncated_size_bytes": 72,
                  "truncated_num_rows": 1,
                  "truncated_num_cols": 8
                },
                "dx_settings": {
                  "NUM_PAST_SAMPLES_TRACKED": 3,
                  "ENABLE_DATALINK": true,
                  "DISPLAY_MODE": "simple",
                  "GENERATE_DEX_METADATA": false,
                  "STRINGIFY_INDEX_VALUES": false,
                  "ALLOW_NOTEABLE_ATTRS": true,
                  "DISPLAY_MAX_COLUMNS": 100,
                  "HTML_TABLE_SCHEMA": false,
                  "SAMPLING_FACTOR": 0.1,
                  "LOG_LEVEL": 30,
                  "ENABLE_ASSIGNMENT": true,
                  "FLATTEN_INDEX_VALUES": false,
                  "DEV_MODE": false,
                  "COLUMN_SAMPLING_METHOD": "outer",
                  "FLATTEN_COLUMN_VALUES": true,
                  "DISPLAY_MAX_ROWS": 50000,
                  "ROW_SAMPLING_METHOD": "random",
                  "RANDOM_STATE": 12648430,
                  "DB_LOCATION": ":memory:",
                  "STRINGIFY_COLUMN_VALUES": true,
                  "SAMPLING_METHOD": "random",
                  "MAX_STRING_LENGTH": 250,
                  "MAX_RENDER_SIZE_BYTES": 104857600,
                  "RESET_INDEX_VALUES": false
                },
                "display_id": "82ad4439-0f84-4fa5-b46d-b79ed5d15759",
                "applied_filters": [],
                "sample_history": [],
                "sampling_time": "2023-06-07T20:49:01.741338",
                "variable_name": "percentages_df",
                "user_variable_name": "percentages_df"
              },
              "display_id": "82ad4439-0f84-4fa5-b46d-b79ed5d15759"
            }
          }
        }
      ],
      "execution_count": null,
      "metadata": {
        "jupyter": {
          "outputs_hidden": false,
          "source_hidden": false
        },
        "noteable": {
          "cell_type": "code"
        },
        "ExecuteTime": {
          "start_time": "2023-06-07T20:49:01.667811+00:00",
          "end_time": "2023-06-07T20:49:01.899133+00:00"
        },
        "datalink": {
          "2da27c59-66d9-4091-b0d2-d2fbf3cbc560": {
            "applied_filters": [],
            "dataframe_info": {
              "default_index_used": true,
              "orig_num_cols": 8,
              "orig_num_rows": 1,
              "orig_size_bytes": 72,
              "truncated_num_cols": 8,
              "truncated_num_rows": 1,
              "truncated_size_bytes": 72,
              "truncated_string_columns": []
            },
            "display_id": "2da27c59-66d9-4091-b0d2-d2fbf3cbc560",
            "dx_settings": {
              "ALLOW_NOTEABLE_ATTRS": true,
              "COLUMN_SAMPLING_METHOD": "outer",
              "DB_LOCATION": ":memory:",
              "DEV_MODE": false,
              "DISPLAY_MAX_COLUMNS": 100,
              "DISPLAY_MAX_ROWS": 50000,
              "DISPLAY_MODE": "simple",
              "ENABLE_ASSIGNMENT": true,
              "ENABLE_DATALINK": true,
              "FLATTEN_COLUMN_VALUES": true,
              "FLATTEN_INDEX_VALUES": false,
              "GENERATE_DEX_METADATA": false,
              "HTML_TABLE_SCHEMA": false,
              "LOG_LEVEL": 30,
              "MAX_RENDER_SIZE_BYTES": 104857600,
              "MAX_STRING_LENGTH": 250,
              "NUM_PAST_SAMPLES_TRACKED": 3,
              "RANDOM_STATE": 12648430,
              "RESET_INDEX_VALUES": false,
              "ROW_SAMPLING_METHOD": "random",
              "SAMPLING_FACTOR": 0.1,
              "SAMPLING_METHOD": "random",
              "STRINGIFY_COLUMN_VALUES": true,
              "STRINGIFY_INDEX_VALUES": false
            },
            "sample_history": [],
            "sampling_time": "2023-06-07T20:46:15.246268",
            "user_variable_name": "percentages_df",
            "variable_name": "percentages_df"
          },
          "82ad4439-0f84-4fa5-b46d-b79ed5d15759": {
            "dataframe_info": {
              "default_index_used": true,
              "orig_size_bytes": 72,
              "orig_num_rows": 1,
              "orig_num_cols": 8,
              "truncated_string_columns": [],
              "truncated_size_bytes": 72,
              "truncated_num_rows": 1,
              "truncated_num_cols": 8
            },
            "dx_settings": {
              "LOG_LEVEL": 30,
              "DEV_MODE": false,
              "DISPLAY_MAX_ROWS": 50000,
              "DISPLAY_MAX_COLUMNS": 100,
              "HTML_TABLE_SCHEMA": false,
              "MAX_RENDER_SIZE_BYTES": 104857600,
              "MAX_STRING_LENGTH": 250,
              "SAMPLING_FACTOR": 0.1,
              "DISPLAY_MODE": "simple",
              "SAMPLING_METHOD": "random",
              "COLUMN_SAMPLING_METHOD": "outer",
              "ROW_SAMPLING_METHOD": "random",
              "RANDOM_STATE": 12648430,
              "RESET_INDEX_VALUES": false,
              "FLATTEN_INDEX_VALUES": false,
              "FLATTEN_COLUMN_VALUES": true,
              "STRINGIFY_INDEX_VALUES": false,
              "STRINGIFY_COLUMN_VALUES": true,
              "ENABLE_DATALINK": true,
              "ENABLE_ASSIGNMENT": true,
              "NUM_PAST_SAMPLES_TRACKED": 3,
              "DB_LOCATION": ":memory:",
              "GENERATE_DEX_METADATA": false,
              "ALLOW_NOTEABLE_ATTRS": true
            },
            "display_id": "82ad4439-0f84-4fa5-b46d-b79ed5d15759",
            "applied_filters": [],
            "sample_history": [],
            "sampling_time": "2023-06-07T20:49:01.741338",
            "variable_name": "percentages_df",
            "user_variable_name": "percentages_df"
          }
        }
      },
      "id": "edaef6f4-a4f4-4436-a2e5-ea91fc4e2f33"
    },
    {
      "cell_type": "code",
      "source": [
        "import matplotlib.pyplot as plt\n",
        "fig, ax = plt.subplots()\n",
        "ax.bar(percentages_df.columns, percentages_df.iloc[0])\n",
        "plt.xticks(rotation=45)\n",
        "plt.ylabel('Percentage')\n",
        "plt.title('Percentage of Dates Meeting Condition')\n",
        "plt.show()"
      ],
      "outputs": [
        {
          "output_type": "display_data",
          "data": {
            "image/png": "[encoded data removed]"
          },
          "metadata": {}
        }
      ],
      "execution_count": null,
      "metadata": {
        "jupyter": {
          "outputs_hidden": false,
          "source_hidden": false
        },
        "noteable": {
          "cell_type": "code"
        },
        "ExecuteTime": {
          "start_time": "2023-06-07T20:49:01.909576+00:00",
          "end_time": "2023-06-07T20:49:02.360273+00:00"
        }
      },
      "id": "1ca2938d-6e4d-44dc-83d9-9699476999c5"
    },
    {
      "cell_type": "code",
      "source": [
        "fig, ax = plt.subplots()\n",
        "bars = ax.bar(percentages_df.columns, percentages_df.iloc[0])\n",
        "plt.xticks(rotation=45)\n",
        "plt.ylabel('Percentage')\n",
        "plt.title('Percentage of 10am 1min OR Extension touches')\n",
        "for bar in bars:\n",
        "    yval = bar.get_height()\n",
        "    plt.text(bar.get_x() + bar.get_width()/2, yval + 1, round(yval, 2), ha='center', va='bottom')\n",
        "plt.show()"
      ],
      "outputs": [
        {
          "output_type": "display_data",
          "data": {
            "image/png": "[encoded data removed]"
          },
          "metadata": {}
        }
      ],
      "execution_count": null,
      "metadata": {
        "jupyter": {
          "source_hidden": false,
          "outputs_hidden": false
        },
        "noteable": {
          "cell_type": "code"
        },
        "ExecuteTime": {
          "start_time": "2023-06-07T20:50:55.807629+00:00",
          "end_time": "2023-06-07T20:50:56.256181+00:00"
        }
      },
      "id": "8ef6be70-1cc4-4281-a332-f9594be7c88c"
    },
    {
      "cell_type": "code",
      "source": [
        "!pip install streamlit"
      ],
      "outputs": [
        {
          "output_type": "stream",
          "name": "stdout",
          "text": [
            "Collecting streamlit\r\n"
          ]
        },
        {
          "output_type": "stream",
          "name": "stdout",
          "text": [
            "  Downloading streamlit-1.23.1-py2.py3-none-any.whl (8.9 MB)\r\n",
            "\u001b[?25l     \u001b[90m━━━━━━━━━━━━━━━━━━━━━━━━━━━━━━━━━━━━━━━━\u001b[0m \u001b[32m0.0/8.9 MB\u001b[0m \u001b[31m?\u001b[0m eta \u001b[36m-:--:--\u001b[0m"
          ]
        },
        {
          "output_type": "stream",
          "name": "stdout",
          "text": [
            "\r\u001b[2K     \u001b[91m━━━━━━━━━\u001b[0m\u001b[90m╺\u001b[0m\u001b[90m━━━━━━━━━━━━━━━━━━━━━━━━━━━━━━\u001b[0m \u001b[32m2.1/8.9 MB\u001b[0m \u001b[31m62.2 MB/s\u001b[0m eta \u001b[36m0:00:01\u001b[0m\r\u001b[2K     \u001b[91m━━━━━━━━━━━━━━━━━━━━━━━━\u001b[0m\u001b[90m╺\u001b[0m\u001b[90m━━━━━━━━━━━━━━━\u001b[0m \u001b[32m5.3/8.9 MB\u001b[0m \u001b[31m77.5 MB/s\u001b[0m eta \u001b[36m0:00:01\u001b[0m"
          ]
        },
        {
          "output_type": "stream",
          "name": "stdout",
          "text": [
            "\r\u001b[2K     \u001b[91m━━━━━━━━━━━━━━━━━━━━━━━━━━━━━━━━━━━━━━━\u001b[0m\u001b[91m╸\u001b[0m \u001b[32m8.9/8.9 MB\u001b[0m \u001b[31m84.2 MB/s\u001b[0m eta \u001b[36m0:00:01\u001b[0m"
          ]
        },
        {
          "output_type": "stream",
          "name": "stdout",
          "text": [
            "\r\u001b[2K     \u001b[91m━━━━━━━━━━━━━━━━━━━━━━━━━━━━━━━━━━━━━━━\u001b[0m\u001b[91m╸\u001b[0m \u001b[32m8.9/8.9 MB\u001b[0m \u001b[31m84.2 MB/s\u001b[0m eta \u001b[36m0:00:01\u001b[0m\r",
            "\u001b[2K     \u001b[90m━━━━━━━━━━━━━━━━━━━━━━━━━━━━━━━━━━━━━━━━\u001b[0m \u001b[32m8.9/8.9 MB\u001b[0m \u001b[31m56.5 MB/s\u001b[0m eta \u001b[36m0:00:00\u001b[0m\r\n",
            "\u001b[?25h"
          ]
        },
        {
          "output_type": "stream",
          "name": "stdout",
          "text": [
            "Requirement already satisfied: tzlocal<5,>=1.1 in /opt/conda/lib/python3.9/site-packages (from streamlit) (4.2)\r\n",
            "Requirement already satisfied: gitpython!=3.1.19,<4,>=3 in /opt/conda/lib/python3.9/site-packages (from streamlit) (3.1.31)\r\n",
            "Requirement already satisfied: rich<14,>=10.11.0 in /opt/conda/lib/python3.9/site-packages (from streamlit) (13.2.0)\r\n",
            "Requirement already satisfied: pyarrow>=4.0 in /opt/conda/lib/python3.9/site-packages (from streamlit) (8.0.0)\r\n",
            "Requirement already satisfied: cachetools<6,>=4.0 in /opt/conda/lib/python3.9/site-packages (from streamlit) (5.3.0)\r\n",
            "Requirement already satisfied: requests<3,>=2.4 in /opt/conda/lib/python3.9/site-packages (from streamlit) (2.28.2)\r\n",
            "Requirement already satisfied: altair<6,>=4.0 in /opt/conda/lib/python3.9/site-packages (from streamlit) (4.2.0)\r\n"
          ]
        },
        {
          "output_type": "stream",
          "name": "stdout",
          "text": [
            "Collecting pympler<2,>=0.9\r\n"
          ]
        },
        {
          "output_type": "stream",
          "name": "stdout",
          "text": [
            "  Downloading Pympler-1.0.1-py3-none-any.whl (164 kB)\r\n",
            "\u001b[?25l     \u001b[90m━━━━━━━━━━━━━━━━━━━━━━━━━━━━━━━━━━━━━━━━\u001b[0m \u001b[32m0.0/164.8 kB\u001b[0m \u001b[31m?\u001b[0m eta \u001b[36m-:--:--\u001b[0m\r",
            "\u001b[2K     \u001b[90m━━━━━━━━━━━━━━━━━━━━━━━━━━━━━━━━━━━━━━\u001b[0m \u001b[32m164.8/164.8 kB\u001b[0m \u001b[31m24.3 MB/s\u001b[0m eta \u001b[36m0:00:00\u001b[0m\r\n",
            "\u001b[?25hRequirement already satisfied: packaging<24,>=14.1 in /opt/conda/lib/python3.9/site-packages (from streamlit) (23.1)\r\n",
            "Requirement already satisfied: tornado<7,>=6.0.3 in /opt/conda/lib/python3.9/site-packages (from streamlit) (6.3.2)\r\n",
            "Requirement already satisfied: protobuf<5,>=3.20 in /opt/conda/lib/python3.9/site-packages (from streamlit) (4.21.7)\r\n",
            "Requirement already satisfied: pillow<10,>=6.2.0 in /opt/conda/lib/python3.9/site-packages (from streamlit) (9.2.0)\r\n",
            "Requirement already satisfied: python-dateutil<3,>=2 in /opt/conda/lib/python3.9/site-packages (from streamlit) (2.8.2)\r\n"
          ]
        },
        {
          "output_type": "stream",
          "name": "stdout",
          "text": [
            "Collecting validators<1,>=0.2\r\n",
            "  Downloading validators-0.20.0.tar.gz (30 kB)\r\n"
          ]
        },
        {
          "output_type": "stream",
          "name": "stdout",
          "text": [
            "  Preparing metadata (setup.py) ... \u001b[?25l-"
          ]
        },
        {
          "output_type": "stream",
          "name": "stdout",
          "text": [
            "\b \b\\"
          ]
        },
        {
          "output_type": "stream",
          "name": "stdout",
          "text": [
            "\b \bdone\r\n",
            "\u001b[?25hRequirement already satisfied: pandas<3,>=0.25 in /opt/conda/lib/python3.9/site-packages (from streamlit) (1.5.3)\r\n",
            "Requirement already satisfied: importlib-metadata<7,>=1.4 in /opt/conda/lib/python3.9/site-packages (from streamlit) (6.6.0)\r\n"
          ]
        },
        {
          "output_type": "stream",
          "name": "stdout",
          "text": [
            "Requirement already satisfied: watchdog in /opt/conda/lib/python3.9/site-packages (from streamlit) (3.0.0)\r\n",
            "Requirement already satisfied: typing-extensions<5,>=4.0.1 in /opt/conda/lib/python3.9/site-packages (from streamlit) (4.5.0)\r\n",
            "Requirement already satisfied: blinker<2,>=1.0.0 in /opt/conda/lib/python3.9/site-packages (from streamlit) (1.5)\r\n",
            "Requirement already satisfied: tenacity<9,>=8.0.0 in /opt/conda/lib/python3.9/site-packages (from streamlit) (8.2.2)\r\n"
          ]
        },
        {
          "output_type": "stream",
          "name": "stdout",
          "text": [
            "Collecting pydeck<1,>=0.1.dev5\r\n",
            "  Downloading pydeck-0.8.1b0-py2.py3-none-any.whl (4.8 MB)\r\n",
            "\u001b[?25l     \u001b[90m━━━━━━━━━━━━━━━━━━━━━━━━━━━━━━━━━━━━━━━━\u001b[0m \u001b[32m0.0/4.8 MB\u001b[0m \u001b[31m?\u001b[0m eta \u001b[36m-:--:--\u001b[0m"
          ]
        },
        {
          "output_type": "stream",
          "name": "stdout",
          "text": [
            "\r\u001b[2K     \u001b[91m━━━━━━━━━━━━━━━━━━━━━━━━━━━━━━━━━━━━━━━\u001b[0m\u001b[91m╸\u001b[0m \u001b[32m4.8/4.8 MB\u001b[0m \u001b[31m144.3 MB/s\u001b[0m eta \u001b[36m0:00:01\u001b[0m"
          ]
        },
        {
          "output_type": "stream",
          "name": "stdout",
          "text": [
            "\r",
            "\u001b[2K     \u001b[90m━━━━━━━━━━━━━━━━━━━━━━━━━━━━━━━━━━━━━━━━\u001b[0m \u001b[32m4.8/4.8 MB\u001b[0m \u001b[31m69.8 MB/s\u001b[0m eta \u001b[36m0:00:00\u001b[0m\r\n",
            "\u001b[?25hCollecting toml<2\r\n"
          ]
        },
        {
          "output_type": "stream",
          "name": "stdout",
          "text": [
            "  Downloading toml-0.10.2-py2.py3-none-any.whl (16 kB)\r\n",
            "Requirement already satisfied: numpy<2,>=1 in /opt/conda/lib/python3.9/site-packages (from streamlit) (1.23.5)\r\n",
            "Requirement already satisfied: click<9,>=7.0 in /opt/conda/lib/python3.9/site-packages (from streamlit) (8.1.3)\r\n",
            "Requirement already satisfied: jinja2 in /opt/conda/lib/python3.9/site-packages (from altair<6,>=4.0->streamlit) (3.1.2)\r\n",
            "Requirement already satisfied: entrypoints in /opt/conda/lib/python3.9/site-packages (from altair<6,>=4.0->streamlit) (0.4)\r\n",
            "Requirement already satisfied: toolz in /opt/conda/lib/python3.9/site-packages (from altair<6,>=4.0->streamlit) (0.12.0)\r\n",
            "Requirement already satisfied: jsonschema>=3.0 in /opt/conda/lib/python3.9/site-packages (from altair<6,>=4.0->streamlit) (4.17.3)\r\n",
            "Requirement already satisfied: gitdb<5,>=4.0.1 in /opt/conda/lib/python3.9/site-packages (from gitpython!=3.1.19,<4,>=3->streamlit) (4.0.10)\r\n"
          ]
        },
        {
          "output_type": "stream",
          "name": "stdout",
          "text": [
            "Requirement already satisfied: zipp>=0.5 in /opt/conda/lib/python3.9/site-packages (from importlib-metadata<7,>=1.4->streamlit) (3.15.0)\r\n",
            "Requirement already satisfied: pytz>=2020.1 in /opt/conda/lib/python3.9/site-packages (from pandas<3,>=0.25->streamlit) (2023.3)\r\n"
          ]
        },
        {
          "output_type": "stream",
          "name": "stdout",
          "text": [
            "Requirement already satisfied: six>=1.5 in /opt/conda/lib/python3.9/site-packages (from python-dateutil<3,>=2->streamlit) (1.16.0)\r\n",
            "Requirement already satisfied: charset-normalizer<4,>=2 in /opt/conda/lib/python3.9/site-packages (from requests<3,>=2.4->streamlit) (2.1.1)\r\n",
            "Requirement already satisfied: certifi>=2017.4.17 in /opt/conda/lib/python3.9/site-packages (from requests<3,>=2.4->streamlit) (2023.5.7)\r\n",
            "Requirement already satisfied: idna<4,>=2.5 in /opt/conda/lib/python3.9/site-packages (from requests<3,>=2.4->streamlit) (3.4)\r\n"
          ]
        },
        {
          "output_type": "stream",
          "name": "stdout",
          "text": [
            "Requirement already satisfied: urllib3<1.27,>=1.21.1 in /opt/conda/lib/python3.9/site-packages (from requests<3,>=2.4->streamlit) (1.26.15)\r\n",
            "Requirement already satisfied: pygments<3.0.0,>=2.6.0 in /opt/conda/lib/python3.9/site-packages (from rich<14,>=10.11.0->streamlit) (2.15.1)\r\n",
            "Requirement already satisfied: markdown-it-py<3.0.0,>=2.1.0 in /opt/conda/lib/python3.9/site-packages (from rich<14,>=10.11.0->streamlit) (2.2.0)\r\n",
            "Requirement already satisfied: pytz-deprecation-shim in /opt/conda/lib/python3.9/site-packages (from tzlocal<5,>=1.1->streamlit) (0.1.0.post0)\r\n"
          ]
        },
        {
          "output_type": "stream",
          "name": "stdout",
          "text": [
            "Requirement already satisfied: decorator>=3.4.0 in /opt/conda/lib/python3.9/site-packages (from validators<1,>=0.2->streamlit) (5.1.1)\r\n",
            "Requirement already satisfied: smmap<6,>=3.0.1 in /opt/conda/lib/python3.9/site-packages (from gitdb<5,>=4.0.1->gitpython!=3.1.19,<4,>=3->streamlit) (5.0.0)\r\n",
            "Requirement already satisfied: MarkupSafe>=2.0 in /opt/conda/lib/python3.9/site-packages (from jinja2->altair<6,>=4.0->streamlit) (2.1.2)\r\n"
          ]
        },
        {
          "output_type": "stream",
          "name": "stdout",
          "text": [
            "Requirement already satisfied: pyrsistent!=0.17.0,!=0.17.1,!=0.17.2,>=0.14.0 in /opt/conda/lib/python3.9/site-packages (from jsonschema>=3.0->altair<6,>=4.0->streamlit) (0.19.3)\r\n",
            "Requirement already satisfied: attrs>=17.4.0 in /opt/conda/lib/python3.9/site-packages (from jsonschema>=3.0->altair<6,>=4.0->streamlit) (23.1.0)\r\n"
          ]
        },
        {
          "output_type": "stream",
          "name": "stdout",
          "text": [
            "Requirement already satisfied: mdurl~=0.1 in /opt/conda/lib/python3.9/site-packages (from markdown-it-py<3.0.0,>=2.1.0->rich<14,>=10.11.0->streamlit) (0.1.2)\r\n"
          ]
        },
        {
          "output_type": "stream",
          "name": "stdout",
          "text": [
            "Requirement already satisfied: tzdata in /opt/conda/lib/python3.9/site-packages (from pytz-deprecation-shim->tzlocal<5,>=1.1->streamlit) (2022.4)\r\n"
          ]
        },
        {
          "output_type": "stream",
          "name": "stdout",
          "text": [
            "Building wheels for collected packages: validators\r\n"
          ]
        },
        {
          "output_type": "stream",
          "name": "stdout",
          "text": [
            "  Building wheel for validators (setup.py) ... \u001b[?25l-"
          ]
        },
        {
          "output_type": "stream",
          "name": "stdout",
          "text": [
            "\b \b\\"
          ]
        },
        {
          "output_type": "stream",
          "name": "stdout",
          "text": [
            "\b \b|"
          ]
        },
        {
          "output_type": "stream",
          "name": "stdout",
          "text": [
            "\b \b/"
          ]
        },
        {
          "output_type": "stream",
          "name": "stdout",
          "text": [
            "\b \b-"
          ]
        },
        {
          "output_type": "stream",
          "name": "stdout",
          "text": [
            "\b \bdone\r\n",
            "\u001b[?25h  Created wheel for validators: filename=validators-0.20.0-py3-none-any.whl size=19579 sha256=553fc61e176db6198b0b85331642bb0c682ec783d71ff92a33574b68472f6c5c\r\n",
            "  Stored in directory: /home/noteable/.cache/pip/wheels/2d/f0/a8/1094fca7a7e5d0d12ff56e0c64675d72aa5cc81a5fc200e849\r\n",
            "Successfully built validators\r\n"
          ]
        },
        {
          "output_type": "stream",
          "name": "stdout",
          "text": [
            "Installing collected packages: validators, toml, pympler, pydeck, streamlit\r\n"
          ]
        },
        {
          "output_type": "stream",
          "name": "stdout",
          "text": [
            "Successfully installed pydeck-0.8.1b0 pympler-1.0.1 streamlit-1.23.1 toml-0.10.2 validators-0.20.0\r\n"
          ]
        }
      ],
      "execution_count": null,
      "metadata": {
        "jupyter": {
          "source_hidden": false,
          "outputs_hidden": false
        },
        "noteable": {
          "cell_type": "code"
        },
        "ExecuteTime": {
          "start_time": "2023-06-07T20:52:47.334132+00:00",
          "end_time": "2023-06-07T20:52:55.849992+00:00"
        }
      },
      "id": "a0c4d33c-730d-4e78-b99b-fc8183b93d52"
    },
    {
      "cell_type": "code",
      "source": [
        "%%writefile streamlit_app.py\n",
        "import streamlit as st\n",
        "import matplotlib.pyplot as plt\n",
        "import pandas as pd\n",
        "\n",
        "def main():\n",
        "    st.title('Percentage of Dates Meeting Condition')\n",
        "\n",
        "    data = {' IBHx10': [58.33], ' IBHx8': [63.89], ' IBHx4': [83.33], ' IBHx2': [91.67], ' IBLx2': [86.11], ' IBLx4': [69.44], ' IBLx8': [41.67], ' IBLx10': [33.33]}\n",
        "    percentages_df = pd.DataFrame(data)\n",
        "\n",
        "    fig, ax = plt.subplots()\n",
        "    bars = ax.bar(percentages_df.columns, percentages_df.iloc[0])\n",
        "    plt.xticks(rotation=45)\n",
        "    plt.ylabel('Percentage')\n",
        "    plt.title('Percentage of Dates Meeting Condition')\n",
        "    for bar in bars:\n",
        "        yval = bar.get_height()\n",
        "        plt.text(bar.get_x() + bar.get_width()/2, yval + 1, round(yval, 2), ha='center', va='bottom')\n",
        "\n",
        "    st.pyplot(fig)\n",
        "\n",
        "if __name__ == \"__main__\":\n",
        "    main()"
      ],
      "outputs": [
        {
          "output_type": "stream",
          "name": "stdout",
          "text": [
            "Writing streamlit_app.py\n"
          ]
        }
      ],
      "execution_count": null,
      "metadata": {
        "jupyter": {
          "source_hidden": false,
          "outputs_hidden": false
        },
        "noteable": {
          "cell_type": "code"
        },
        "ExecuteTime": {
          "start_time": "2023-06-07T20:53:41.682366+00:00",
          "end_time": "2023-06-07T20:53:41.841266+00:00"
        }
      },
      "id": "112c5a51-fcc7-4022-baab-0c17a0393abb"
    }
  ],
  "metadata": {
    "noteable-chatgpt": {
      "create_notebook": {
        "openai_conversation_id": "0f2cd675-7c01-55a4-a556-4a2e9716ad41",
        "openai_ephemeral_user_id": "009a1cc2-d764-5216-83c3-bcc0d653a458",
        "openai_subdivision1_iso_code": "US-CA"
      }
    },
    "noteable": {
      "last_transaction_id": "4c9b02e0-b461-43a4-9ed5-fe63dfcf4b76",
      "last_delta_id": "f49255c4-6cb1-4a3d-ae86-324aa1b0540f"
    },
    "selected_hardware_size": "small",
    "nteract": {
      "version": "noteable@2.9.0"
    }
  },
  "nbformat": 4,
  "nbformat_minor": 5
}